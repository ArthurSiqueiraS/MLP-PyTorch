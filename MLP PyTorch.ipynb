{
 "cells": [
  {
   "cell_type": "markdown",
   "metadata": {
    "colab_type": "text",
    "id": "iJVmbhgTTlKL"
   },
   "source": [
    "# Objetivos deste trabalho\n",
    "- Familiarizar-se com a biblioteca PyTorch\n",
    "- Definir arquiteturas MLP simples em PyTorch\n",
    "- Treinar utilizando CIFAR10, testando diferentes arquiteturas, parâmetros, funções de loss e otimizadores\n",
    "- Comparar os resultados obtidos utilizando apenas Perpceptrons"
   ]
  },
  {
   "cell_type": "code",
   "execution_count": 1,
   "metadata": {
    "colab": {},
    "colab_type": "code",
    "id": "mJRuHuiITlKn"
   },
   "outputs": [],
   "source": [
    "%matplotlib inline\n",
    "\n",
    "import matplotlib.pyplot as plt\n",
    "\n",
    "import torch\n",
    "import torch.nn as nn\n",
    "from torch.utils.data import DataLoader\n",
    "\n",
    "import torchvision\n",
    "import torchvision.transforms as transforms"
   ]
  },
  {
   "cell_type": "code",
   "execution_count": 2,
   "metadata": {
    "colab": {
     "base_uri": "https://localhost:8080/",
     "height": 52
    },
    "colab_type": "code",
    "executionInfo": {
     "elapsed": 3547,
     "status": "ok",
     "timestamp": 1555371362733,
     "user": {
      "displayName": "Arthur Silva",
      "photoUrl": "https://lh3.googleusercontent.com/-qrDfzyJHrP8/AAAAAAAAAAI/AAAAAAAAAVI/S-dC7cmuQfU/s64/photo.jpg",
      "userId": "04594233424177179449"
     },
     "user_tz": 180
    },
    "id": "WVBdC2LqTlLv",
    "outputId": "ffc65ef9-fcd5-4fc6-d20f-6c36b2dc8260"
   },
   "outputs": [
    {
     "name": "stdout",
     "output_type": "stream",
     "text": [
      "Files already downloaded and verified\n",
      "Files already downloaded and verified\n"
     ]
    }
   ],
   "source": [
    "# Carregar os datasets\n",
    "\n",
    "transform=transforms.Compose([\n",
    "    transforms.Grayscale(num_output_channels=1),\n",
    "    transforms.ToTensor()\n",
    "])\n",
    "\n",
    "dataset_train = torchvision.datasets.CIFAR10(root='./data', train=True,\n",
    "                                        download=True, transform=transform)\n",
    "\n",
    "dataset_test = torchvision.datasets.CIFAR10(root='./data', train=False,\n",
    "                                        download=True, transform=transform)"
   ]
  },
  {
   "cell_type": "code",
   "execution_count": 3,
   "metadata": {
    "colab": {},
    "colab_type": "code",
    "id": "6dZqQm0uTlNG"
   },
   "outputs": [],
   "source": [
    "train_loader = DataLoader(dataset=dataset_train, shuffle=True, batch_size=4)\n",
    "test_loader = DataLoader(dataset=dataset_test, shuffle=False, batch_size=4)"
   ]
  },
  {
   "cell_type": "code",
   "execution_count": 4,
   "metadata": {
    "colab": {},
    "colab_type": "code",
    "id": "lj6r89aqTlN7"
   },
   "outputs": [],
   "source": [
    "# Definir a arquitetura MLP\n",
    "\n",
    "class MLP(nn.Module):\n",
    "    def __init__(self):\n",
    "        super(MLP, self).__init__()\n",
    "        self.fc1 = nn.Linear(32*32, 36)\n",
    "        self.fc2 = nn.Linear(36, 10)\n",
    "        self.activation_function = nn.ReLU()\n",
    "    def forward(self, x):\n",
    "        x = x.view(-1, 32*32)\n",
    "        x = self.activation_function(self.fc1(x))\n",
    "        x = self.activation_function(self.fc2(x))\n",
    "        return x"
   ]
  },
  {
   "cell_type": "code",
   "execution_count": 5,
   "metadata": {
    "colab": {
     "base_uri": "https://localhost:8080/",
     "height": 104
    },
    "colab_type": "code",
    "executionInfo": {
     "elapsed": 3699,
     "status": "ok",
     "timestamp": 1555371363035,
     "user": {
      "displayName": "Arthur Silva",
      "photoUrl": "https://lh3.googleusercontent.com/-qrDfzyJHrP8/AAAAAAAAAAI/AAAAAAAAAVI/S-dC7cmuQfU/s64/photo.jpg",
      "userId": "04594233424177179449"
     },
     "user_tz": 180
    },
    "id": "WbYKAAuVTlOj",
    "outputId": "78bae1a7-f189-41d5-8f7c-8c5c610b68c2"
   },
   "outputs": [
    {
     "name": "stdout",
     "output_type": "stream",
     "text": [
      "MLP(\n",
      "  (fc1): Linear(in_features=1024, out_features=36, bias=True)\n",
      "  (fc2): Linear(in_features=36, out_features=10, bias=True)\n",
      "  (activation_function): ReLU()\n",
      ")\n"
     ]
    }
   ],
   "source": [
    "device = torch.device(\"cuda:0\" if torch.cuda.is_available() else \"cpu\")\n",
    "\n",
    "model = MLP()\n",
    "model.to(device)\n",
    "\n",
    "print(model)"
   ]
  },
  {
   "cell_type": "code",
   "execution_count": 6,
   "metadata": {
    "colab": {},
    "colab_type": "code",
    "id": "OW-nXubqTlQD"
   },
   "outputs": [],
   "source": [
    "# Definir otimizador e loss\n",
    "# Nota: testar outros otimizadores e funções de loss (em particular cross entropy)\n",
    "\n",
    "optimizer = torch.optim.SGD(model.parameters(), lr = 0.005, momentum=0.01)\n",
    "loss_fn = torch.nn.CrossEntropyLoss()\n"
   ]
  },
  {
   "cell_type": "code",
   "execution_count": 7,
   "metadata": {
    "colab": {},
    "colab_type": "code",
    "id": "XejcVYwpTlRM"
   },
   "outputs": [],
   "source": [
    "# Realizar o treinamento aqui\n",
    "\n",
    "def train(epochs, validate=False):\n",
    "    losses = []\n",
    "    for epoch in range(epochs):\n",
    "        print('Epoch ' + str(epoch + 1) + ':')\n",
    "        train_sub_len = int(len(train_loader)/epochs)\n",
    "        validate_indices = []\n",
    "        if validate:\n",
    "            start = epoch * train_sub_len\n",
    "            end = (epoch + 1) * train_sub_len\n",
    "            validate_indices = range(start, end)\n",
    "            validate_set = list(train_loader) \n",
    "            \n",
    "        correct = 0\n",
    "        total = 0\n",
    "        \n",
    "        running_loss = 0\n",
    "        for i, (inputs, labels) in enumerate(train_loader, 0):\n",
    "            if not validate or i not in validate_indices:\n",
    "                inputs, labels = inputs.to(device), labels.to(device)\n",
    "                \n",
    "                optimizer.zero_grad()\n",
    "\n",
    "                outputs = model(inputs)\n",
    "                loss = loss_fn(outputs, labels)\n",
    "                loss.backward()\n",
    "                optimizer.step()\n",
    "\n",
    "                _, pred = torch.max(outputs.data, 1)\n",
    "                total += labels.size(0)\n",
    "                correct += (pred == labels).sum().item()\n",
    "\n",
    "                running_loss += loss.item()\n",
    "            \n",
    "            if (i % train_sub_len == train_sub_len - 1) and (i not in validate_indices): \n",
    "                losses.append(running_loss / train_sub_len)\n",
    "                running_loss = 0.0\n",
    "\n",
    "                \n",
    "        print('  Training accuracy: %d %%' % (\n",
    "            100 * correct / total))\n",
    "        \n",
    "        if validate:\n",
    "            correct = 0\n",
    "            total = 0\n",
    "            with torch.no_grad():\n",
    "              for i in validate_indices:\n",
    "                inputs, labels = validate_set[i]\n",
    "                inputs, labels = inputs.to(device), labels.to(device)\n",
    "                \n",
    "                outputs = model(inputs)\n",
    "                _, pred = torch.max(outputs.data, 1)\n",
    "                total += labels.size(0)\n",
    "                correct += (pred == labels).sum().item()\n",
    "\n",
    "            print('  Validation accuracy: %d %%' % (\n",
    "                    100 * correct / total))        \n",
    "            \n",
    "    plt.plot(losses)\n",
    "    plt.title(\"Loss\")\n",
    "    plt.show()\n",
    "            \n"
   ]
  },
  {
   "cell_type": "code",
   "execution_count": 8,
   "metadata": {
    "colab": {
     "base_uri": "https://localhost:8080/",
     "height": 607
    },
    "colab_type": "code",
    "executionInfo": {
     "elapsed": 198109,
     "status": "error",
     "timestamp": 1555367085320,
     "user": {
      "displayName": "Arthur Silva",
      "photoUrl": "https://lh3.googleusercontent.com/-qrDfzyJHrP8/AAAAAAAAAAI/AAAAAAAAAVI/S-dC7cmuQfU/s64/photo.jpg",
      "userId": "04594233424177179449"
     },
     "user_tz": 180
    },
    "id": "QIqKWGzWfvV1",
    "outputId": "38f715d3-fd60-469a-987a-ee302b6d03ca"
   },
   "outputs": [
    {
     "name": "stdout",
     "output_type": "stream",
     "text": [
      "Epoch 1:\n",
      "  Training accuracy: 20 %\n",
      "  Validation accuracy: 25 %\n",
      "Epoch 2:\n",
      "  Training accuracy: 27 %\n",
      "  Validation accuracy: 30 %\n",
      "Epoch 3:\n",
      "  Training accuracy: 30 %\n",
      "  Validation accuracy: 32 %\n",
      "Epoch 4:\n",
      "  Training accuracy: 32 %\n",
      "  Validation accuracy: 35 %\n",
      "Epoch 5:\n",
      "  Training accuracy: 34 %\n",
      "  Validation accuracy: 35 %\n",
      "Epoch 6:\n",
      "  Training accuracy: 35 %\n",
      "  Validation accuracy: 37 %\n",
      "Epoch 7:\n",
      "  Training accuracy: 35 %\n",
      "  Validation accuracy: 36 %\n",
      "Epoch 8:\n",
      "  Training accuracy: 36 %\n",
      "  Validation accuracy: 38 %\n",
      "Epoch 9:\n",
      "  Training accuracy: 37 %\n",
      "  Validation accuracy: 38 %\n",
      "Epoch 10:\n",
      "  Training accuracy: 37 %\n",
      "  Validation accuracy: 37 %\n",
      "Epoch 11:\n",
      "  Training accuracy: 37 %\n",
      "  Validation accuracy: 39 %\n",
      "Epoch 12:\n",
      "  Training accuracy: 38 %\n",
      "  Validation accuracy: 38 %\n",
      "Epoch 13:\n",
      "  Training accuracy: 38 %\n",
      "  Validation accuracy: 38 %\n",
      "Epoch 14:\n",
      "  Training accuracy: 38 %\n",
      "  Validation accuracy: 36 %\n",
      "Epoch 15:\n",
      "  Training accuracy: 38 %\n",
      "  Validation accuracy: 34 %\n",
      "Epoch 16:\n",
      "  Training accuracy: 39 %\n",
      "  Validation accuracy: 41 %\n",
      "Epoch 17:\n",
      "  Training accuracy: 39 %\n",
      "  Validation accuracy: 40 %\n",
      "Epoch 18:\n",
      "  Training accuracy: 39 %\n",
      "  Validation accuracy: 39 %\n",
      "Epoch 19:\n",
      "  Training accuracy: 39 %\n",
      "  Validation accuracy: 40 %\n",
      "Epoch 20:\n",
      "  Training accuracy: 40 %\n",
      "  Validation accuracy: 39 %\n"
     ]
    },
    {
     "data": {
      "image/png": "[encoded data removed]",
      "text/plain": [
       "<Figure size 432x288 with 1 Axes>"
      ]
     },
     "metadata": {
      "needs_background": "light"
     },
     "output_type": "display_data"
    }
   ],
   "source": [
    "train(20, validate=True)"
   ]
  },
  {
   "cell_type": "code",
   "execution_count": 9,
   "metadata": {
    "colab": {},
    "colab_type": "code",
    "id": "e_otPG3STlSH"
   },
   "outputs": [
    {
     "name": "stdout",
     "output_type": "stream",
     "text": [
      "accuracy: 37 %\n"
     ]
    }
   ],
   "source": [
    "correct = 0\n",
    "total = 0\n",
    "with torch.no_grad():\n",
    "  for data in test_loader:\n",
    "    inputs, labels = data\n",
    "    inputs, labels = inputs.to(device), labels.to(device)\n",
    "\n",
    "    outputs = model(inputs)\n",
    "    _, pred = torch.max(outputs.data, 1)\n",
    "    total += labels.size(0)\n",
    "    correct += (pred == labels).sum().item()\n",
    "\n",
    "print('accuracy: %d %%' % (\n",
    "    100 * correct / total))"
   ]
  },
  {
   "cell_type": "code",
   "execution_count": 10,
   "metadata": {
    "colab": {},
    "colab_type": "code",
    "id": "-q4VeITvorbl"
   },
   "outputs": [],
   "source": [
    "# O modelo inicial teve uma arquitetura muito simples, utilizando otimização SGD e Cross Entropy como função loss, o que obteve melhores resultados no treinamento dentre as outras alternativas.\n",
    "# Este primeiro modelo mostrou-se capaz de convergir para um erro menor do que o classificador utilizando apenas Perceptrons, embora demorasse um pouco mais para isso.\n",
    "# Ao testar alterações na complexidade da rede, notou-se que aumentar a sua largura acelerava significativamente a convergência da mesma, ainda estagnando em máximos semelhantes.\n",
    "# Por outro lado o aumento na profundidade pareceu piorar o aprendizado da rede.\n",
    "# A troca da função de ativação Sigmoid pela ReLU melhorou ainda mais o treinamento da rede, apresentando saltos maiores a cada passo de aprendizado.\n",
    "# A partir disto foram testadas diversas combinações de parâmetros até que se notou um overfit para o conjunto de treino, com bias muito elevado em relação ao conjunto de avaliação.\n",
    "# Posteriormente, diminuiu-se a complexidade do modelo, o que resultou em acurácias com bias e variância menores, as quais são apresentadas acima."
   ]
  },
  {
   "cell_type": "code",
   "execution_count": null,
   "metadata": {
    "colab": {},
    "colab_type": "code",
    "id": "27YKv-9pUfap"
   },
   "outputs": [],
   "source": []
  }
 ],
 "metadata": {
  "accelerator": "TPU",
  "colab": {
   "collapsed_sections": [],
   "name": "MLP PyTorch.ipynb",
   "provenance": [],
   "version": "0.3.2"
  },
  "kernelspec": {
   "display_name": "Python 3",
   "language": "python",
   "name": "python3"
  },
  "language_info": {
   "codemirror_mode": {
    "name": "ipython",
    "version": 3
   },
   "file_extension": ".py",
   "mimetype": "text/x-python",
   "name": "python",
   "nbconvert_exporter": "python",
   "pygments_lexer": "ipython3",
   "version": "3.7.1"
  }
 },
 "nbformat": 4,
 "nbformat_minor": 1
}
